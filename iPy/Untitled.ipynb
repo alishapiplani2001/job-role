{
 "cells": [
  {
   "cell_type": "code",
   "execution_count": 14,
   "metadata": {},
   "outputs": [
    {
     "name": "stdout",
     "output_type": "stream",
     "text": [
      "The autoreload extension is already loaded. To reload it, use:\n",
      "  %reload_ext autoreload\n"
     ]
    }
   ],
   "source": [
    "import time\n",
    "import numpy as np\n",
    "import h5py\n",
    "import matplotlib.pyplot as plt\n",
    "import scipy\n",
    "import pandas as pd\n",
    "# from keras.models import Sequential\n",
    "# from keras.layers import Dense, Activation\n",
    "\n",
    "%matplotlib inline\n",
    "plt.rcParams['figure.figsize'] = (5.0, 4.0) # set default size of plots\n",
    "plt.rcParams['image.interpolation'] = 'nearest'\n",
    "plt.rcParams['image.cmap'] = 'gray'\n",
    "\n",
    "%load_ext autoreload\n",
    "%autoreload 2\n",
    "\n",
    "np.random.seed(1)"
   ]
  },
  {
   "cell_type": "code",
   "execution_count": 4,
   "metadata": {},
   "outputs": [
    {
     "name": "stdout",
     "output_type": "stream",
     "text": [
      "(16129, 127) (3871, 127)\n"
     ]
    }
   ],
   "source": [
    "roo = './roo1.csv'\n",
    "df  = pd.read_csv(roo)\n",
    "\n",
    "data      = df.copy()\n",
    "train_set = data.sample(frac=0.80645)\n",
    "test_set  = data.drop(train_set.index)\n",
    "\n",
    "# print ('Training set')\n",
    "# print (train_set.head())\n",
    "# print ('\\nTest set')\n",
    "# print (test_set.head())\n",
    "# print ('\\nOriginal DataFrame')\n",
    "# print (data.head())\n",
    "\n",
    "print(train_set.shape,test_set.shape)"
   ]
  },
  {
   "cell_type": "code",
   "execution_count": 6,
   "metadata": {},
   "outputs": [],
   "source": [
    "X_train = train_set.iloc[:,:93]\n",
    "Y_train = train_set.iloc[:,93:]\n",
    "\n",
    "X_test  = test_set.iloc[:,:93]\n",
    "Y_test  = test_set.iloc[:,93:]\n"
   ]
  },
  {
   "cell_type": "code",
   "execution_count": 9,
   "metadata": {},
   "outputs": [
    {
     "name": "stdout",
     "output_type": "stream",
     "text": [
      "Number of training examples: 16129\n",
      "Number of testing examples : 16129\n",
      "train_set shape            : (16129, 127)\n",
      "test_set shape             : (3871, 127)\n",
      "       Acedamic percentage in Operating Systems  percentage in Algorithms  \\\n",
      "17824                                 -0.993040                 -0.992999   \n",
      "13792                                 -0.991714                 -0.993662   \n",
      "18271                                 -0.992211                 -0.993994   \n",
      "5016                                  -0.993372                 -0.990511   \n",
      "17586                                 -0.989393                 -0.990842   \n",
      "\n",
      "       Percentage in Programming Concepts  Percentage in Software Engineering  \\\n",
      "17824                           -0.990314                           -0.994395   \n",
      "13792                           -0.993955                           -0.991420   \n",
      "18271                           -0.992631                           -0.990924   \n",
      "5016                            -0.992466                           -0.991420   \n",
      "17586                           -0.993955                           -0.992081   \n",
      "\n",
      "       Percentage in Computer Networks  Percentage in Electronics Subjects  \\\n",
      "17824                        -0.990627                           -0.991200   \n",
      "13792                        -0.992619                           -0.993022   \n",
      "18271                        -0.990959                           -0.990703   \n",
      "5016                         -0.990959                           -0.990868   \n",
      "17586                        -0.991955                           -0.990205   \n",
      "\n",
      "       Percentage in Computer Architecture  Percentage in Mathematics  \\\n",
      "17824                            -0.992367                  -0.989389   \n",
      "13792                            -0.993526                  -0.989057   \n",
      "18271                            -0.992201                  -0.992879   \n",
      "5016                             -0.993691                  -0.990885   \n",
      "17586                            -0.994188                  -0.993876   \n",
      "\n",
      "       Percentage in Communication skills  Hours working per day  \\\n",
      "17824                           -0.993465                      8   \n",
      "13792                           -0.989479                      6   \n",
      "18271                           -0.991804                     11   \n",
      "5016                            -0.993299                      7   \n",
      "17586                           -0.992800                      5   \n",
      "\n",
      "           ...        Management or Technical_Management  \\\n",
      "17824      ...                                         0   \n",
      "13792      ...                                         0   \n",
      "18271      ...                                         1   \n",
      "5016       ...                                         0   \n",
      "17586      ...                                         0   \n",
      "\n",
      "       Management or Technical_Technical  Salary/work_salary  \\\n",
      "17824                                  1                   0   \n",
      "13792                                  1                   1   \n",
      "18271                                  0                   0   \n",
      "5016                                   1                   1   \n",
      "17586                                  1                   1   \n",
      "\n",
      "       Salary/work_work  hard/smart worker_hard worker  \\\n",
      "17824                 1                              0   \n",
      "13792                 0                              0   \n",
      "18271                 1                              1   \n",
      "5016                  0                              1   \n",
      "17586                 0                              0   \n",
      "\n",
      "       hard/smart worker_smart worker  worked in teams ever?_no  \\\n",
      "17824                               1                         1   \n",
      "13792                               1                         1   \n",
      "18271                               0                         1   \n",
      "5016                                0                         1   \n",
      "17586                               1                         0   \n",
      "\n",
      "       worked in teams ever?_yes  Introvert_no  Introvert_yes  \n",
      "17824                          0             0              1  \n",
      "13792                          0             0              1  \n",
      "18271                          0             0              1  \n",
      "5016                           0             0              1  \n",
      "17586                          1             1              0  \n",
      "\n",
      "[5 rows x 93 columns]\n"
     ]
    }
   ],
   "source": [
    "# Explore your dataset \n",
    "m_train = X_train.shape[0] #no of train samples\n",
    "n       = X_train.shape[1] #no of train features\n",
    "m_test  = Y_train.shape[0] #no of test samples\n",
    "\n",
    "print (\"Number of training examples: \" + str(m_train))\n",
    "print (\"Number of testing examples : \" + str(m_test))\n",
    "print (\"train_set shape            : \" + str(train_set.shape))\n",
    "print (\"test_set shape             : \" + str(test_set.shape))\n",
    "# Normalising the marks columns (1-9)\n",
    "myu = [77.01426002852006, 76.98474796949594, 77.07384214768429, 77.12121024242049, 76.95790191580383, 77.01605803211606, 77.05654411308822, 76.90935581871163, 76.93328786657574]\n",
    "sig = [77.67089701771499, 77.64407546751336, 77.73767831813130, 77.77726209249717, 77.60748318199020, 77.68706969992881, 77.71482937759954, 77.57664974896230, 77.59417367116924]\n",
    " #array contains variance of all train columns\n",
    "\n",
    "for i in range(9):\n",
    "    X_train.iloc[:,i] = (X_train.iloc[:,i] - myu[i])/sig[i]\n",
    "    X_test.iloc[:,i] = (X_test.iloc[:,i] - myu[i])/sig[i]\n",
    "    \n",
    "print(X_train.head())"
   ]
  },
  {
   "cell_type": "code",
   "execution_count": 16,
   "metadata": {},
   "outputs": [
    {
     "ename": "NameError",
     "evalue": "name 'L_layer_model' is not defined",
     "output_type": "error",
     "traceback": [
      "\u001b[0;31m---------------------------------------------------------------------------\u001b[0m",
      "\u001b[0;31mNameError\u001b[0m                                 Traceback (most recent call last)",
      "\u001b[0;32m<ipython-input-16-b82f9c42e475>\u001b[0m in \u001b[0;36m<module>\u001b[0;34m\u001b[0m\n\u001b[1;32m      1\u001b[0m \u001b[0mlayers_dims\u001b[0m \u001b[0;34m=\u001b[0m \u001b[0;34m(\u001b[0m\u001b[0;36m93\u001b[0m\u001b[0;34m,\u001b[0m \u001b[0;36m50\u001b[0m\u001b[0;34m,\u001b[0m \u001b[0;36m50\u001b[0m\u001b[0;34m,\u001b[0m \u001b[0;36m50\u001b[0m\u001b[0;34m,\u001b[0m \u001b[0;36m34\u001b[0m\u001b[0;34m)\u001b[0m\u001b[0;34m\u001b[0m\u001b[0;34m\u001b[0m\u001b[0m\n\u001b[0;32m----> 2\u001b[0;31m \u001b[0mparameters\u001b[0m \u001b[0;34m=\u001b[0m \u001b[0mL_layer_model\u001b[0m\u001b[0;34m(\u001b[0m\u001b[0mX_train\u001b[0m\u001b[0;34m,\u001b[0m \u001b[0mY_train\u001b[0m\u001b[0;34m,\u001b[0m \u001b[0mlayers_dims\u001b[0m\u001b[0;34m,\u001b[0m \u001b[0mnum_iterations\u001b[0m \u001b[0;34m=\u001b[0m \u001b[0;36m2500\u001b[0m\u001b[0;34m,\u001b[0m \u001b[0mprint_cost\u001b[0m \u001b[0;34m=\u001b[0m \u001b[0;32mTrue\u001b[0m\u001b[0;34m)\u001b[0m\u001b[0;34m\u001b[0m\u001b[0;34m\u001b[0m\u001b[0m\n\u001b[0m",
      "\u001b[0;31mNameError\u001b[0m: name 'L_layer_model' is not defined"
     ]
    }
   ],
   "source": []
  }
 ],
 "metadata": {
  "kernelspec": {
   "display_name": "Python 3",
   "language": "python",
   "name": "python3"
  },
  "language_info": {
   "codemirror_mode": {
    "name": "ipython",
    "version": 3
   },
   "file_extension": ".py",
   "mimetype": "text/x-python",
   "name": "python",
   "nbconvert_exporter": "python",
   "pygments_lexer": "ipython3",
   "version": "3.7.3"
  }
 },
 "nbformat": 4,
 "nbformat_minor": 2
}
